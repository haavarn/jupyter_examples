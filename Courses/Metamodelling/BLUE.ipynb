{
 "nbformat": 4,
 "nbformat_minor": 2,
 "metadata": {
  "language_info": {
   "name": "python",
   "codemirror_mode": {
    "name": "ipython",
    "version": 3
   }
  },
  "orig_nbformat": 2,
  "file_extension": ".py",
  "mimetype": "text/x-python",
  "name": "python",
  "npconvert_exporter": "python",
  "pygments_lexer": "ipython3",
  "version": 3
 },
 "cells": [
  {
   "cell_type": "code",
   "execution_count": null,
   "metadata": {},
   "outputs": [],
   "source": [
    "import numpy as np\n"
   ]
  },
  {
   "cell_type": "markdown",
   "metadata": {},
   "source": [
    "## General task info\n",
    "We have the following problem of a complex exponential embedded in white, complex Gaussian noise\n",
    "\n",
    "\\begin{equation}\n",
    "x(t) = Ae^{i(\\omega_0 t + \\phi)} + w(t)\n",
    "\\end{equation}\n",
    "\n",
    "- Amplitude $A > 0$\n",
    "- Frequancy $\\omega_0 > 0$\n",
    "- Phase $-\\pi < \\phi < \\pi$\n",
    "\n",
    "QUICK MOTIVATION: \n",
    "\n",
    "1. If we want to extract a baseband signal we need to estimate these parameters of the carrier first. \n",
    "\n",
    "2. Also variations in sensors (local oscillator) creates the need to synchronize to a common frequency reference in a master-slave architecture.\n",
    "\n",
    "Our signal is sampled and bandlimited:\n",
    "\\begin{equation}\n",
    "x[n] = A e^{i(\\omega_0 nT +\\phi)} + w_r[n] + i w_i[n]\n",
    "\\end{equation}\n",
    "\n",
    "Where\n",
    "$$\n",
    "\\begin{align}\n",
    "& E[w[n]] = E[w_r[n] + i w_i[n]] = 0  \\\\\n",
    "& var(w_r[n]) = var(w_i[n]) = \\sigma^2 \\\\\n",
    "& E[w_r[n] w_i[n]] = 0\n",
    "\\end{align}\n",
    "$$\n",
    "\n",
    "A best linear unbiased estimator (BLUE) is used in the high signal-to-noise range. Computer simulations are done in this Notebook. We also have:"
   ]
  },
  {
   "cell_type": "code",
   "execution_count": null,
   "metadata": {},
   "outputs": [],
   "source": [
    "fs = 10**6 # Hz, sampling rate\n",
    "T = 1/fs # s, time step\n",
    "\n",
    "f_0 = 10**5 # Hz\n",
    "w_0 = 2*np.pi*f0\n",
    "phase = np.pi/8\n",
    "A = 1\n",
    "\n",
    "# N samples from n = n_0 to n = n_0+N-1\n",
    "# SNR = A^2 / (2*std^2)"
   ]
  },
  {
   "cell_type": "code",
   "execution_count": null,
   "metadata": {},
   "outputs": [],
   "source": [
    "# Move these outside in a different .py file maybe\n",
    "# Cramer-Rao lower bounds\n",
    "\n",
    "def var_est_w(var, A, T, N):\n",
    "    return 12*var /(A**2 * T**2 * N*(N**2-1))\n",
    "\n",
    "def var_est_phi(var, A, n_0, N):\n",
    "    P = N*(N-1)/2\n",
    "    Q = N*(N-1)*(2*N-1)/6\n",
    "    num = 12*var*(n_0**2 *N + 2*n_0*P +Q)\n",
    "    den = A**2 * N**2 * (N**2 - 1)\n",
    "    return num/den\n",
    "\n",
    "# Setting n_0 = -P/N apparently gives a diagonal matrix     (how & where?) so frequency and phase can be analysed     independently"
   ]
  },
  {
   "cell_type": "markdown",
   "metadata": {},
   "source": [
    "## Project description: BLUE for high SNRs\n",
    "\n",
    "MLE sometimes requires too much memory and computational power. We can do the approximation that \n",
    "\n",
    "\\begin{equation}\n",
    "x[n] = A e^{i(\\omega_0 n T + \\phi)} + w[n] \\approx A e^{i(\\omega_0 n T + \\phi + v[n])},\n",
    "\\end{equation}\n",
    "\n",
    "where $v[n]$ is zero mean, iid. noise. It can be **shown** to be good under high SNRs. All info now in phase angle of observations:\n",
    "\n",
    "\\begin{equation}\n",
    "\\angle x[n] = \\omega_0 n T + \\phi + v[n],\n",
    "\\end{equation}\n",
    "\n",
    "which is a linear system. $v[n]$ **IS NOT** Gaussian, so we use BLUE. Phase unwrapping is one thing we need to consider, since we from computations get $ \\angle x[n] \\in [-\\pi/2, \\pi/2]$. We need high SNRs. We will use $\\texttt{np.unwrap}$.\n",
    "\n",
    "### 2a) Experiment with the unwrap function and plot som of the results for low (-10 dB) and high (30 dB) SNRs."
   ]
  },
  {
   "cell_type": "code",
   "execution_count": null,
   "metadata": {},
   "outputs": [],
   "source": [
    "# insert code"
   ]
  },
  {
   "cell_type": "markdown",
   "metadata": {},
   "source": [
    "### 2b) Compare the BLUE estimator with the CRLB wrt. the frequency and phase error variances for the following parameters.\n",
    "\n",
    "- Samples number N = 513, which gives n_0 = -256\n",
    "- SNRs (in decibel): -10 through 40, in steps of 10 dB.\n"
   ]
  },
  {
   "cell_type": "code",
   "execution_count": null,
   "metadata": {},
   "outputs": [],
   "source": [
    "# insert code"
   ]
  },
  {
   "cell_type": "markdown",
   "metadata": {},
   "source": [
    "An alternatiove approach that doesn’t rely on phase unwrapping is based on the difference between two phase estimates.\n",
    "\n",
    "\\begin{equation}\n",
    "\\angle x[n+1] - \\angle x[n] = \\omega_0 T + v[n+1] - v[n].\n",
    "\\end{equation}\n",
    "\n",
    "Here the noise is no longer white between observations. \n",
    "\n",
    "### 2c) Use the BLUE for colored noise to compute estimates for the same parameters as in the previous problem.\n",
    "\n",
    "Note that there is no phase estimate directly available with this approach. Instead we use the direct ML estimate,which is in closed form when $\\hat{\\omega}$ is known:\n",
    "\n",
    "\\begin{equation}\n",
    "\\hat{\\phi} = \\angle \\big[ e^{-i\\hat{\\omega} n_0 T} F(\\hat{\\omega}) \\big]\n",
    "\\end{equation}\n",
    "\n"
   ]
  }
 ]
}