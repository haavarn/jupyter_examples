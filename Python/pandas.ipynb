{
 "nbformat": 4,
 "nbformat_minor": 2,
 "metadata": {
  "language_info": {
   "name": "python",
   "codemirror_mode": {
    "name": "ipython",
    "version": 3
   }
  },
  "orig_nbformat": 2,
  "file_extension": ".py",
  "mimetype": "text/x-python",
  "name": "python",
  "npconvert_exporter": "python",
  "pygments_lexer": "ipython3",
  "version": 3
 },
 "cells": [
  {
   "cell_type": "markdown",
   "metadata": {},
   "source": [
    "### Terminology\n",
    "- series = vectors\n",
    "- frames = matrices"
   ]
  },
  {
   "cell_type": "code",
   "execution_count": null,
   "metadata": {},
   "outputs": [],
   "source": [
    "import pandas as pd \n",
    "import numpy as np \n",
    "from matplotlib import pyplot as plt \n"
   ]
  },
  {
   "cell_type": "code",
   "execution_count": null,
   "metadata": {},
   "outputs": [],
   "source": [
    "data = pd.read_csv('data/Montreal.csv') # reads CSV\n",
    "data = pd.read_csv('data/Montreal.csv', index_col='Date/Time', parse_dates=['Date/Time']) # alternative for having different index column\n",
    "\n",
    "data.head()    # Displays top data\n",
    "data.index # gives index data (=rows)\n",
    "data.index[0] # numpy indexing\n",
    "data.dtypes # gives data columns\n",
    "data['Temp (C)'] # grabs that series / column"
   ]
  }
 ]
}