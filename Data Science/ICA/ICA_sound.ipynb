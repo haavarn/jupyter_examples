{
 "nbformat": 4,
 "nbformat_minor": 2,
 "metadata": {
  "language_info": {
   "name": "python",
   "codemirror_mode": {
    "name": "ipython",
    "version": 3
   },
   "version": "3.6.5-final"
  },
  "orig_nbformat": 2,
  "file_extension": ".py",
  "mimetype": "text/x-python",
  "name": "python",
  "npconvert_exporter": "python",
  "pygments_lexer": "ipython3",
  "version": 3,
  "kernelspec": {
   "name": "python3",
   "display_name": "Python 3"
  }
 },
 "cells": [
  {
   "cell_type": "code",
   "execution_count": 72,
   "metadata": {},
   "outputs": [],
   "source": [
    "import numpy as np\n",
    "import scipy\n",
    "import matplotlib.pyplot as plt\n",
    "from scipy import signal\n",
    "import scipy.io.wavfile as wav\n",
    "import IPython.display as ipd\n",
    "\n",
    "from sklearn.decomposition import FastICA, PCA\n",
    "import sounddevice as sd\n",
    "\n",
    "def soundsc(x, fs):\n",
    "    sd.play(x/max(x), fs)\n",
    "\n",
    "def prepare(signal, fs, t):\n",
    "    #make mono\n",
    "    if len(signal.shape) == 2:\n",
    "        signal = signal[:,0]\n",
    "    i_max = t*fs\n",
    "    signal = signal[:i_max]\n",
    "    signal = signal/max(signal)*1.0\n",
    "    return signal\n",
    "\n",
    "t = 3 # sec\n",
    "\n",
    "fs, piano  = wav.read('piano.wav')\n",
    "piano      = prepare(piano, fs, t)\n",
    "\n",
    "fs, count  = wav.read('count.wav')\n",
    "count      = prepare(count, fs, t)\n",
    "\n",
    "fs, speach = wav.read('priest.wav')\n",
    "speach     = prepare(speach, fs, t)\n",
    "\n",
    "noise      = np.random.normal(0,1,fs*t)\n",
    "noise      = prepare(noise, fs, t)"
   ]
  },
  {
   "cell_type": "code",
   "execution_count": 74,
   "metadata": {},
   "outputs": [],
   "source": [
    "S = np.c_[count, piano, speach]\n",
    "\n",
    "# Mix data\n",
    "#A = np.array([[1, 0], [0, 1]])  # Mixing matrix\n",
    "#X = np.dot(A, S.T).T \n",
    "\n",
    "# Compute ICA\n",
    "ica = FastICA(n_components=2, whiten = True) # whiten=True, fun='logcosh', exp, cube. max_iter, tol, w_init\n",
    "\n",
    "Sica = ica.fit_transform(S)  # Reconstruct signals\n",
    "Aica = ica.mixing_  # Get estimated mixing matrix"
   ]
  },
  {
   "cell_type": "code",
   "execution_count": null,
   "metadata": {},
   "outputs": [],
   "source": []
  }
 ]
}